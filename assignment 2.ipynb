{
 "cells": [
  {
   "cell_type": "code",
   "execution_count": 1,
   "id": "7f004bb2-4bf4-45b1-8dc4-33ffda280be5",
   "metadata": {},
   "outputs": [],
   "source": [
    "# Q.1 Discuss string slicing and provide example."
   ]
  },
  {
   "cell_type": "code",
   "execution_count": 2,
   "id": "c9a6a335-93e8-44d3-b9ef-9e460296eee0",
   "metadata": {},
   "outputs": [
    {
     "data": {
      "text/plain": [
       "'Ans:- string slicing is used to extract element from the object, it used to extract a subset of characters from a string.\\nIt follows the format string[start:end]\\nEX.'"
      ]
     },
     "execution_count": 2,
     "metadata": {},
     "output_type": "execute_result"
    }
   ],
   "source": [
    "'''Ans:- string slicing is used to extract element from the object, it used to extract a subset of characters from a string.\n",
    "It follows the format string[start:end]\n",
    "EX.'''"
   ]
  },
  {
   "cell_type": "code",
   "execution_count": 7,
   "id": "d1c5e074-a793-4433-b311-9b4ef18f8036",
   "metadata": {},
   "outputs": [],
   "source": [
    "name = \"my name is krishna kapse\""
   ]
  },
  {
   "cell_type": "code",
   "execution_count": 8,
   "id": "3a69846b-7c58-4a7d-b6ad-c8edc3c91252",
   "metadata": {},
   "outputs": [
    {
     "data": {
      "text/plain": [
       "'my name is krishna kapse'"
      ]
     },
     "execution_count": 8,
     "metadata": {},
     "output_type": "execute_result"
    }
   ],
   "source": [
    "name "
   ]
  },
  {
   "cell_type": "code",
   "execution_count": 10,
   "id": "57dcb869-cc45-49c0-bbd6-280d71701804",
   "metadata": {},
   "outputs": [
    {
     "data": {
      "text/plain": [
       "'n'"
      ]
     },
     "execution_count": 10,
     "metadata": {},
     "output_type": "execute_result"
    }
   ],
   "source": [
    "name[3] # basic slicing "
   ]
  },
  {
   "cell_type": "code",
   "execution_count": 11,
   "id": "6237c155-6b9b-4753-a21d-f64fd02e3d41",
   "metadata": {},
   "outputs": [
    {
     "data": {
      "text/plain": [
       "'my name is'"
      ]
     },
     "execution_count": 11,
     "metadata": {},
     "output_type": "execute_result"
    }
   ],
   "source": [
    "name[:10]"
   ]
  },
  {
   "cell_type": "code",
   "execution_count": 20,
   "id": "5bd97eb8-bede-4d31-972d-4b20afd9e2cc",
   "metadata": {},
   "outputs": [
    {
     "data": {
      "text/plain": [
       "' kapse'"
      ]
     },
     "execution_count": 20,
     "metadata": {},
     "output_type": "execute_result"
    }
   ],
   "source": [
    "name[-6:] # negative slicing"
   ]
  },
  {
   "cell_type": "code",
   "execution_count": 21,
   "id": "fdfbbff7-ce36-42b0-8584-d4f61d5fe854",
   "metadata": {},
   "outputs": [
    {
     "data": {
      "text/plain": [
       "'mnesrh p'"
      ]
     },
     "execution_count": 21,
     "metadata": {},
     "output_type": "execute_result"
    }
   ],
   "source": [
    "name[::3] # this is step slicing it give value after 3 charater"
   ]
  },
  {
   "cell_type": "code",
   "execution_count": 22,
   "id": "33437b47-1b88-4fc9-8fe9-52a30d8c4315",
   "metadata": {},
   "outputs": [],
   "source": [
    "# Q.2 Explain the key features of lists in python."
   ]
  },
  {
   "cell_type": "code",
   "execution_count": 25,
   "id": "fce39397-681d-40fc-8525-c14938d0813b",
   "metadata": {},
   "outputs": [
    {
     "data": {
      "text/plain": [
       "'Ans:- list are ordered collection of items, which can store all type of data in it.\\nlists is like shopping bag which can store everything in it. lists are mutable.lists are ordered collection, Heterogeneous,\\nit Provides indexing, slicing, and iteration.EX. '"
      ]
     },
     "execution_count": 25,
     "metadata": {},
     "output_type": "execute_result"
    }
   ],
   "source": [
    "'''Ans:- list are ordered collection of items, which can store all type of data in it.\n",
    "lists is like shopping bag which can store everything in it. lists are mutable.lists are ordered collection, Heterogeneous,\n",
    "it Provides indexing, slicing, and iteration.EX. '''"
   ]
  },
  {
   "cell_type": "code",
   "execution_count": 27,
   "id": "c8965e01-44e4-41d0-9e42-6d791c791b2e",
   "metadata": {},
   "outputs": [],
   "source": [
    "list = [\"apple\",\"banana\",\"anda\", 2, True, False, 3, \"ram\",\"shyam\"]"
   ]
  },
  {
   "cell_type": "code",
   "execution_count": 28,
   "id": "1df8c7ee-9bad-453b-bab8-91f83569c2df",
   "metadata": {},
   "outputs": [
    {
     "data": {
      "text/plain": [
       "['apple', 'banana', 'anda', 2, True, False, 3, 'ram', 'shyam']"
      ]
     },
     "execution_count": 28,
     "metadata": {},
     "output_type": "execute_result"
    }
   ],
   "source": [
    "list # store all data"
   ]
  },
  {
   "cell_type": "code",
   "execution_count": 31,
   "id": "1c95d484-ddc0-4972-895f-318013c3f4c1",
   "metadata": {},
   "outputs": [],
   "source": [
    "list [3] = \"kl\""
   ]
  },
  {
   "cell_type": "code",
   "execution_count": 32,
   "id": "2563d6cf-7e6b-430a-a5f1-78e9d7a2d427",
   "metadata": {},
   "outputs": [
    {
     "data": {
      "text/plain": [
       "['apple', 'banana', 'anda', 'kl', True, False, 3, 'ram', 'shyam']"
      ]
     },
     "execution_count": 32,
     "metadata": {},
     "output_type": "execute_result"
    }
   ],
   "source": [
    "list # mutable"
   ]
  },
  {
   "cell_type": "code",
   "execution_count": 33,
   "id": "b3202d0d-36e8-49d5-ba4c-751fa25e7132",
   "metadata": {},
   "outputs": [],
   "source": [
    "# Q.3 Describe how to access,modify and delete elements in a list with examples."
   ]
  },
  {
   "cell_type": "code",
   "execution_count": 34,
   "id": "1511e10d-9cd2-4267-8b0b-d31685a7b0a3",
   "metadata": {},
   "outputs": [
    {
     "data": {
      "text/plain": [
       "'Ans:-list is mutable and ordered collection. it is easily accessed and modity easily.\\nEX.'"
      ]
     },
     "execution_count": 34,
     "metadata": {},
     "output_type": "execute_result"
    }
   ],
   "source": [
    "'''Ans:-list is mutable and ordered collection. it is easily accessed and modity easily.\n",
    "EX.'''"
   ]
  },
  {
   "cell_type": "code",
   "execution_count": 39,
   "id": "ebf1fbe1-6ea1-4068-8517-19890b0844d3",
   "metadata": {},
   "outputs": [],
   "source": [
    "list = [10, 20, 30, 40, 50] # accessing"
   ]
  },
  {
   "cell_type": "code",
   "execution_count": 40,
   "id": "8aedb7b1-12c8-4b85-8102-4a45cbcae046",
   "metadata": {},
   "outputs": [
    {
     "data": {
      "text/plain": [
       "[10, 20, 30, 40, 50]"
      ]
     },
     "execution_count": 40,
     "metadata": {},
     "output_type": "execute_result"
    }
   ],
   "source": [
    "list"
   ]
  },
  {
   "cell_type": "code",
   "execution_count": 41,
   "id": "92f9b6b6-b363-405c-8668-cd698fe83a99",
   "metadata": {},
   "outputs": [
    {
     "data": {
      "text/plain": [
       "50"
      ]
     },
     "execution_count": 41,
     "metadata": {},
     "output_type": "execute_result"
    }
   ],
   "source": [
    "list [4]"
   ]
  },
  {
   "cell_type": "code",
   "execution_count": 42,
   "id": "3e0d8d2e-afeb-4487-a708-fd9e8ef3ae6f",
   "metadata": {},
   "outputs": [],
   "source": [
    "list [2] = 55 # modity index 2 '30' to '55'"
   ]
  },
  {
   "cell_type": "code",
   "execution_count": 43,
   "id": "5a8a9910-a9bd-46ce-b6a9-e84bd8a59899",
   "metadata": {},
   "outputs": [
    {
     "data": {
      "text/plain": [
       "[10, 20, 55, 40, 50]"
      ]
     },
     "execution_count": 43,
     "metadata": {},
     "output_type": "execute_result"
    }
   ],
   "source": [
    "list"
   ]
  },
  {
   "cell_type": "code",
   "execution_count": 46,
   "id": "fa2f7c34-31e1-454c-8f42-e4a5c313075a",
   "metadata": {},
   "outputs": [],
   "source": [
    "list.append(30) #modity by adding '30'"
   ]
  },
  {
   "cell_type": "code",
   "execution_count": 53,
   "id": "04c288f6-6119-4d27-a00a-0562bfc97c72",
   "metadata": {},
   "outputs": [
    {
     "data": {
      "text/plain": [
       "[10, 20, 55, 40, 50, 30]"
      ]
     },
     "execution_count": 53,
     "metadata": {},
     "output_type": "execute_result"
    }
   ],
   "source": [
    "list"
   ]
  },
  {
   "cell_type": "code",
   "execution_count": 54,
   "id": "588b4b9b-c994-445e-a1d5-79fe92cc5f7c",
   "metadata": {},
   "outputs": [],
   "source": [
    "del list[5] # delete the '30' number"
   ]
  },
  {
   "cell_type": "code",
   "execution_count": 55,
   "id": "0c44b694-f8c2-4242-b680-0b5d1d9988e0",
   "metadata": {},
   "outputs": [
    {
     "data": {
      "text/plain": [
       "[10, 20, 55, 40, 50]"
      ]
     },
     "execution_count": 55,
     "metadata": {},
     "output_type": "execute_result"
    }
   ],
   "source": [
    "list"
   ]
  },
  {
   "cell_type": "code",
   "execution_count": 61,
   "id": "1d24b8b3-5cee-4696-b149-9b421caa6202",
   "metadata": {},
   "outputs": [],
   "source": [
    "list.remove(55)"
   ]
  },
  {
   "cell_type": "code",
   "execution_count": 62,
   "id": "ff82761a-cf45-4603-88bb-9e798e42b734",
   "metadata": {},
   "outputs": [
    {
     "data": {
      "text/plain": [
       "[10, 20, 40, 50]"
      ]
     },
     "execution_count": 62,
     "metadata": {},
     "output_type": "execute_result"
    }
   ],
   "source": [
    "list # remove the no.'55'"
   ]
  },
  {
   "cell_type": "code",
   "execution_count": 63,
   "id": "9dddd125-b248-486e-b371-200e55110f31",
   "metadata": {},
   "outputs": [],
   "source": [
    "# Q.4 Compare and contrast tuples and lists with examples."
   ]
  },
  {
   "cell_type": "code",
   "execution_count": 64,
   "id": "b72bea65-a533-417e-a503-c51e8696865f",
   "metadata": {},
   "outputs": [
    {
     "data": {
      "text/plain": [
       "'Ans:-1)Lists are mutable, meaning you can change their content (add, modify, or remove elements).\\nTuples are immutable, meaning once a tuple is created, you cannot modify its elements.\\n2)Tuples use parentheses () to enclose values, while lists use square brackets []\\n3)Both can be used to store collections of data\\n4)Lists are used when you need a collection of items that may change (e.g., appending, modifying, removing elements).\\nTuples are used for fixed collections of items, like coordinates, dates, or configurations that should not be altered.\\nEx.'"
      ]
     },
     "execution_count": 64,
     "metadata": {},
     "output_type": "execute_result"
    }
   ],
   "source": [
    "'''Ans:-1)Lists are mutable, meaning you can change their content (add, modify, or remove elements).\n",
    "Tuples are immutable, meaning once a tuple is created, you cannot modify its elements.\n",
    "2)Tuples use parentheses () to enclose values, while lists use square brackets []\n",
    "3)Both can be used to store collections of data\n",
    "4)Lists are used when you need a collection of items that may change (e.g., appending, modifying, removing elements).\n",
    "Tuples are used for fixed collections of items, like coordinates, dates, or configurations that should not be altered.\n",
    "Ex.'''"
   ]
  },
  {
   "cell_type": "code",
   "execution_count": 65,
   "id": "1f2e6918-9507-410c-b575-ccb96b20e69e",
   "metadata": {},
   "outputs": [],
   "source": [
    "# lists \n",
    "list = [\"apple\",\"banana\",\"anda\", 2, True, False, 3, \"ram\",\"shyam\"]"
   ]
  },
  {
   "cell_type": "code",
   "execution_count": 66,
   "id": "ace9257a-2ee6-4a80-9207-44601926323c",
   "metadata": {},
   "outputs": [
    {
     "data": {
      "text/plain": [
       "['apple', 'banana', 'anda', 2, True, False, 3, 'ram', 'shyam']"
      ]
     },
     "execution_count": 66,
     "metadata": {},
     "output_type": "execute_result"
    }
   ],
   "source": [
    "list"
   ]
  },
  {
   "cell_type": "code",
   "execution_count": 68,
   "id": "03ea5fd1-6dd1-4735-b878-b8051972a809",
   "metadata": {},
   "outputs": [
    {
     "data": {
      "text/plain": [
       "'banana'"
      ]
     },
     "execution_count": 68,
     "metadata": {},
     "output_type": "execute_result"
    }
   ],
   "source": [
    "list [1]"
   ]
  },
  {
   "cell_type": "code",
   "execution_count": 69,
   "id": "0c898cee-7e04-4309-9f86-f9e804dcb981",
   "metadata": {},
   "outputs": [],
   "source": [
    "list [4] = \"raju\" # mutable "
   ]
  },
  {
   "cell_type": "code",
   "execution_count": 70,
   "id": "aa5fe31c-812c-444b-9a26-aeb59028f606",
   "metadata": {},
   "outputs": [
    {
     "data": {
      "text/plain": [
       "['apple', 'banana', 'anda', 2, 'raju', False, 3, 'ram', 'shyam']"
      ]
     },
     "execution_count": 70,
     "metadata": {},
     "output_type": "execute_result"
    }
   ],
   "source": [
    "list"
   ]
  },
  {
   "cell_type": "code",
   "execution_count": 71,
   "id": "3994c228-0df2-4c40-a733-867fc1448dc8",
   "metadata": {},
   "outputs": [
    {
     "data": {
      "text/plain": [
       "list"
      ]
     },
     "execution_count": 71,
     "metadata": {},
     "output_type": "execute_result"
    }
   ],
   "source": [
    "type(list)"
   ]
  },
  {
   "cell_type": "code",
   "execution_count": 78,
   "id": "1ed47045-74c3-4fb2-bbc8-f94493857298",
   "metadata": {},
   "outputs": [],
   "source": [
    "# tuples \n",
    "t  = (\"apple\",\"banana\",\"anda\", 2, True, False, 3, \"ram\",\"shyam\")"
   ]
  },
  {
   "cell_type": "code",
   "execution_count": 79,
   "id": "e94f96c0-419b-4e8f-9595-e2f772b84585",
   "metadata": {},
   "outputs": [
    {
     "data": {
      "text/plain": [
       "('apple', 'banana', 'anda', 2, True, False, 3, 'ram', 'shyam')"
      ]
     },
     "execution_count": 79,
     "metadata": {},
     "output_type": "execute_result"
    }
   ],
   "source": [
    "t"
   ]
  },
  {
   "cell_type": "code",
   "execution_count": 80,
   "id": "5fcdb5bd-4527-4027-b6e0-028eb226203c",
   "metadata": {},
   "outputs": [
    {
     "data": {
      "text/plain": [
       "tuple"
      ]
     },
     "execution_count": 80,
     "metadata": {},
     "output_type": "execute_result"
    }
   ],
   "source": [
    "type(t)"
   ]
  },
  {
   "cell_type": "code",
   "execution_count": 81,
   "id": "b0de9624-a49e-405d-893a-95bc214cc4d5",
   "metadata": {},
   "outputs": [
    {
     "data": {
      "text/plain": [
       "2"
      ]
     },
     "execution_count": 81,
     "metadata": {},
     "output_type": "execute_result"
    }
   ],
   "source": [
    "t [3]"
   ]
  },
  {
   "cell_type": "code",
   "execution_count": 82,
   "id": "685358d6-3bcd-4a75-9f89-8ee2738f6a34",
   "metadata": {},
   "outputs": [
    {
     "ename": "TypeError",
     "evalue": "'tuple' object does not support item assignment",
     "output_type": "error",
     "traceback": [
      "\u001b[0;31m---------------------------------------------------------------------------\u001b[0m",
      "\u001b[0;31mTypeError\u001b[0m                                 Traceback (most recent call last)",
      "Cell \u001b[0;32mIn[82], line 1\u001b[0m\n\u001b[0;32m----> 1\u001b[0m \u001b[43mt\u001b[49m\u001b[43m \u001b[49m\u001b[43m[\u001b[49m\u001b[38;5;241;43m6\u001b[39;49m\u001b[43m]\u001b[49m \u001b[38;5;241m=\u001b[39m \u001b[38;5;124m\"\u001b[39m\u001b[38;5;124mkaju\u001b[39m\u001b[38;5;124m\"\u001b[39m\n",
      "\u001b[0;31mTypeError\u001b[0m: 'tuple' object does not support item assignment"
     ]
    }
   ],
   "source": [
    "t [6] = \"kaju\" # it is immutable so it is not chnage after cration"
   ]
  },
  {
   "cell_type": "code",
   "execution_count": 83,
   "id": "f3a4f3c1-3e7a-43eb-be37-e8c4e76bd78c",
   "metadata": {},
   "outputs": [],
   "source": [
    "# Q.5 Describe the key features of sets and provide examples of their uses."
   ]
  },
  {
   "cell_type": "code",
   "execution_count": 84,
   "id": "5ed94ecb-fbaa-4607-9fce-4f4abff69a0e",
   "metadata": {},
   "outputs": [
    {
     "data": {
      "text/plain": [
       "'Ans:-1 sets are the unordered collection of unique element, and in sets no indexing concept.\\n2 No duplicates: Sets automatically remove duplicates.\\n3. Mutable: Sets are mutable, meaning you can add or remove elements.\\n4. Fast membership testing: Checking if an element is in a set is fast.\\nEx.'"
      ]
     },
     "execution_count": 84,
     "metadata": {},
     "output_type": "execute_result"
    }
   ],
   "source": [
    "'''Ans:-1 sets are the unordered collection of unique element, and in sets no indexing concept.\n",
    "2 No duplicates: Sets automatically remove duplicates.\n",
    "3. Mutable: Sets are mutable, meaning you can add or remove elements.\n",
    "4. Fast membership testing: Checking if an element is in a set is fast.\n",
    "Ex.'''\n"
   ]
  },
  {
   "cell_type": "code",
   "execution_count": 85,
   "id": "c60ddefb-ce0f-4dcf-a7e8-122a1023adb5",
   "metadata": {},
   "outputs": [],
   "source": [
    "s = {\"apple\", \"orange\",\"red\",\"blue\",\"red\",\"apple\"} # it gives unique values "
   ]
  },
  {
   "cell_type": "code",
   "execution_count": 86,
   "id": "2e7b6271-328b-44d3-bf15-24775c16df25",
   "metadata": {},
   "outputs": [
    {
     "data": {
      "text/plain": [
       "{'apple', 'blue', 'orange', 'red'}"
      ]
     },
     "execution_count": 86,
     "metadata": {},
     "output_type": "execute_result"
    }
   ],
   "source": [
    "s  # it is not take duplicate value"
   ]
  },
  {
   "cell_type": "code",
   "execution_count": 87,
   "id": "87dfc33d-cb88-40c2-86cb-a8c9d852dd8c",
   "metadata": {},
   "outputs": [],
   "source": [
    "s.add(\"mango\") # we anc add element in sets"
   ]
  },
  {
   "cell_type": "code",
   "execution_count": 88,
   "id": "b2ae03f2-214e-485a-92fa-9f1ec80857f7",
   "metadata": {},
   "outputs": [
    {
     "data": {
      "text/plain": [
       "{'apple', 'blue', 'mango', 'orange', 'red'}"
      ]
     },
     "execution_count": 88,
     "metadata": {},
     "output_type": "execute_result"
    }
   ],
   "source": [
    "s"
   ]
  },
  {
   "cell_type": "code",
   "execution_count": 89,
   "id": "47ad0780-1c76-4d7c-a36f-1fd450eb64a2",
   "metadata": {},
   "outputs": [],
   "source": [
    "#Q.6 Discuss the use cases of tuples and sets in python programming."
   ]
  },
  {
   "cell_type": "code",
   "execution_count": 90,
   "id": "0d8ec933-ace5-4efa-9660-6d6c4070e6c7",
   "metadata": {},
   "outputs": [
    {
     "data": {
      "text/plain": [
       "\"Ans:- tuples:- this is immutable, and you dont want to change, you will use tuples to store the data.\\n sets:- sets are unoredered collection of unique element.\\ntuples Use cases:\\n1. Immutable data: Tuples are ideal for storing data that shouldn't be changed, such as database records or user credentials.\\n2. Small, fixed-size data: Tuples are suitable for small, fixed-size data sets, like coordinates or IP addresses.\\n3. Function arguments: Tuples can be used to pass multiple values to a function.\\n4. Return values: Tuples can be used to return multiple values from a function.\\n5. Data validation: Tuples can be used to validate data, as they are immutable and can be easily compared.\\n6. Performance: Tuples are faster than lists for small, fixed-size data sets.\\nSets:Use cases:\\n1. Unique data: Sets are perfect for storing unique data, like IDs or usernames.\\n2. Fast lookups: Sets provide fast membership testing, making them suitable for large datasets.\\n3. Data normalization: Sets can be used to normalize data by removing duplicates.\\n4. Mathematical operations: Sets support mathematical operations like union, intersection, and difference.\\n5. Data analysis: Sets can be used to analyze data, such as finding unique values or filtering data.\\n6. Caching: Sets can be used as a cache to store unique data. Ex.\""
      ]
     },
     "execution_count": 90,
     "metadata": {},
     "output_type": "execute_result"
    }
   ],
   "source": [
    "'''Ans:- tuples:- this is immutable, and you dont want to change, you will use tuples to store the data.\n",
    " sets:- sets are unoredered collection of unique element.\n",
    "tuples Use cases:\n",
    "1. Immutable data: Tuples are ideal for storing data that shouldn't be changed, such as database records or user credentials.\n",
    "2. Small, fixed-size data: Tuples are suitable for small, fixed-size data sets, like coordinates or IP addresses.\n",
    "3. Function arguments: Tuples can be used to pass multiple values to a function.\n",
    "4. Return values: Tuples can be used to return multiple values from a function.\n",
    "5. Data validation: Tuples can be used to validate data, as they are immutable and can be easily compared.\n",
    "6. Performance: Tuples are faster than lists for small, fixed-size data sets.\n",
    "Sets:Use cases:\n",
    "1. Unique data: Sets are perfect for storing unique data, like IDs or usernames.\n",
    "2. Fast lookups: Sets provide fast membership testing, making them suitable for large datasets.\n",
    "3. Data normalization: Sets can be used to normalize data by removing duplicates.\n",
    "4. Mathematical operations: Sets support mathematical operations like union, intersection, and difference.\n",
    "5. Data analysis: Sets can be used to analyze data, such as finding unique values or filtering data.\n",
    "6. Caching: Sets can be used as a cache to store unique data. Ex.'''\n"
   ]
  },
  {
   "cell_type": "code",
   "execution_count": 91,
   "id": "2a577602-d191-4f50-b5fe-a4465af02b53",
   "metadata": {},
   "outputs": [
    {
     "data": {
      "text/plain": [
       "('raju', 'shyam', 'baburao', 'ganpat')"
      ]
     },
     "execution_count": 91,
     "metadata": {},
     "output_type": "execute_result"
    }
   ],
   "source": [
    "# tuples \n",
    "emp_id = (\"raju\", \"shyam\", \"baburao\",\"ganpat\")\n",
    "emp_id\n"
   ]
  },
  {
   "cell_type": "code",
   "execution_count": 92,
   "id": "aa44fc2c-9ce5-4359-aa71-8adbe96cd52b",
   "metadata": {},
   "outputs": [
    {
     "data": {
      "text/plain": [
       "'baburao'"
      ]
     },
     "execution_count": 92,
     "metadata": {},
     "output_type": "execute_result"
    }
   ],
   "source": [
    "emp_id [2] "
   ]
  },
  {
   "cell_type": "code",
   "execution_count": 93,
   "id": "281a7e25-20a0-4db8-b90b-42786d0bb1a9",
   "metadata": {},
   "outputs": [
    {
     "ename": "TypeError",
     "evalue": "'tuple' object does not support item assignment",
     "output_type": "error",
     "traceback": [
      "\u001b[0;31m---------------------------------------------------------------------------\u001b[0m",
      "\u001b[0;31mTypeError\u001b[0m                                 Traceback (most recent call last)",
      "Cell \u001b[0;32mIn[93], line 1\u001b[0m\n\u001b[0;32m----> 1\u001b[0m \u001b[43memp_id\u001b[49m\u001b[43m \u001b[49m\u001b[43m[\u001b[49m\u001b[38;5;241;43m2\u001b[39;49m\u001b[43m]\u001b[49m \u001b[38;5;241m=\u001b[39m \u001b[38;5;124m\"\u001b[39m\u001b[38;5;124mRamu\u001b[39m\u001b[38;5;124m\"\u001b[39m\n",
      "\u001b[0;31mTypeError\u001b[0m: 'tuple' object does not support item assignment"
     ]
    }
   ],
   "source": [
    "emp_id [2] = \"Ramu\" # tuple can not change values"
   ]
  },
  {
   "cell_type": "code",
   "execution_count": 94,
   "id": "71ac660b-2eb8-43e5-8aaa-1c76c91ccecb",
   "metadata": {},
   "outputs": [],
   "source": [
    "# sets uniqe values\n",
    "s = {\"apple\", \"orange\",\"red\",\"blue\",\"red\",\"apple\"} # it gives unique values "
   ]
  },
  {
   "cell_type": "code",
   "execution_count": 95,
   "id": "42db76f4-3599-4535-b14c-e7d8d67a34ba",
   "metadata": {},
   "outputs": [
    {
     "data": {
      "text/plain": [
       "{'apple', 'blue', 'orange', 'red'}"
      ]
     },
     "execution_count": 95,
     "metadata": {},
     "output_type": "execute_result"
    }
   ],
   "source": [
    "s"
   ]
  },
  {
   "cell_type": "code",
   "execution_count": 96,
   "id": "bacee0ad-3c7d-4375-8c6b-018cc658c9bd",
   "metadata": {},
   "outputs": [],
   "source": [
    "#Q.7 Describe how to add, modify, and delete items in a dictionary with examples."
   ]
  },
  {
   "cell_type": "code",
   "execution_count": 97,
   "id": "2e0b6d11-003c-4715-b0fe-cec424597587",
   "metadata": {},
   "outputs": [
    {
     "data": {
      "text/plain": [
       "'Ans:-Dictionaries in Python are mutable data structures that store key-value pairs,where each key is unique.\\nEx.'"
      ]
     },
     "execution_count": 97,
     "metadata": {},
     "output_type": "execute_result"
    }
   ],
   "source": [
    "'''Ans:-Dictionaries in Python are mutable data structures that store key-value pairs,where each key is unique.\n",
    "Ex.'''\n"
   ]
  },
  {
   "cell_type": "code",
   "execution_count": 98,
   "id": "c217578a-8eb6-4ac5-a700-7bd945fd4ca6",
   "metadata": {},
   "outputs": [],
   "source": [
    "my_dict ={}"
   ]
  },
  {
   "cell_type": "code",
   "execution_count": 99,
   "id": "664236a9-5452-43fa-8ae6-ea5b480aa6b7",
   "metadata": {},
   "outputs": [
    {
     "data": {
      "text/plain": [
       "dict"
      ]
     },
     "execution_count": 99,
     "metadata": {},
     "output_type": "execute_result"
    }
   ],
   "source": [
    "type(my_dict)"
   ]
  },
  {
   "cell_type": "code",
   "execution_count": 100,
   "id": "602a940b-ecc0-4086-8073-f687f7e13a58",
   "metadata": {},
   "outputs": [],
   "source": [
    "my_dict ={\"key_course\": \"data science\",\"duration\":200 } # adding function"
   ]
  },
  {
   "cell_type": "code",
   "execution_count": 101,
   "id": "99c6e50d-2555-4ce4-ac98-507e4ed022e9",
   "metadata": {},
   "outputs": [
    {
     "data": {
      "text/plain": [
       "{'key_course': 'data science', 'duration': 200}"
      ]
     },
     "execution_count": 101,
     "metadata": {},
     "output_type": "execute_result"
    }
   ],
   "source": [
    "my_dict"
   ]
  },
  {
   "cell_type": "code",
   "execution_count": 102,
   "id": "f76a2038-788e-4770-a35c-9ea0585e5777",
   "metadata": {},
   "outputs": [
    {
     "name": "stdout",
     "output_type": "stream",
     "text": [
      "{'key_course': 'data science', 'duration': 200, 'month': 6}\n"
     ]
    }
   ],
   "source": [
    "my_dict[\"month\"] = 6\n",
    "print(my_dict)"
   ]
  },
  {
   "cell_type": "code",
   "execution_count": 105,
   "id": "ec429234-1d4a-436e-b792-ca82b87331be",
   "metadata": {},
   "outputs": [],
   "source": [
    "my_dict[\"key_course\"] = \"Data_analytics_course\"# modification function"
   ]
  },
  {
   "cell_type": "code",
   "execution_count": 106,
   "id": "96a8b9e2-ca4b-402d-91a1-8b62cf89ed9d",
   "metadata": {},
   "outputs": [
    {
     "data": {
      "text/plain": [
       "{'key_course': 'Data_analytics_course', 'duration': 200, 'month': 6}"
      ]
     },
     "execution_count": 106,
     "metadata": {},
     "output_type": "execute_result"
    }
   ],
   "source": [
    "my_dict"
   ]
  },
  {
   "cell_type": "code",
   "execution_count": 107,
   "id": "c183ef68-c557-41b4-9158-bd8e52402a00",
   "metadata": {},
   "outputs": [],
   "source": [
    "del my_dict[\"duration\"] # delet fuction"
   ]
  },
  {
   "cell_type": "code",
   "execution_count": 108,
   "id": "aab3388a-f56c-4e58-80c1-1ec4aaf14adf",
   "metadata": {},
   "outputs": [
    {
     "data": {
      "text/plain": [
       "{'key_course': 'Data_analytics_course', 'month': 6}"
      ]
     },
     "execution_count": 108,
     "metadata": {},
     "output_type": "execute_result"
    }
   ],
   "source": [
    "my_dict"
   ]
  },
  {
   "cell_type": "code",
   "execution_count": 109,
   "id": "db077e0f-6349-47fb-9388-620e1db75c54",
   "metadata": {},
   "outputs": [],
   "source": [
    "#Q.8 Discuss the importance of dictionary keys being immutable and provide examples."
   ]
  },
  {
   "cell_type": "code",
   "execution_count": 110,
   "id": "b0e0b9ad-b1de-4683-a851-fa36769cf98a",
   "metadata": {},
   "outputs": [
    {
     "data": {
      "text/plain": [
       "'Ans:- Dictionaries are used to store data values in key:value pairs. dictionary keys must be immutable,\\nmeaning their value cannot be changed after creation.\\n1 Hashing: Dictionary keys are hashed to store and retrieve values efficiently. Immutable keys ensure consistent hashing, allowing for fast lookups.\\n2. Uniqueness: Immutable keys guarantee uniqueness, preventing duplicate keys and ensuring each key-value pair is distinct.\\n3. Ordering: Immutable keys maintain the order in which they were inserted, making it possible to iterate over the dictionary in a consistent manner.\\nEX.'"
      ]
     },
     "execution_count": 110,
     "metadata": {},
     "output_type": "execute_result"
    }
   ],
   "source": [
    "'''Ans:- Dictionaries are used to store data values in key:value pairs. dictionary keys must be immutable,\n",
    "meaning their value cannot be changed after creation.\n",
    "1 Hashing: Dictionary keys are hashed to store and retrieve values efficiently. Immutable keys ensure consistent hashing, allowing for fast lookups.\n",
    "2. Uniqueness: Immutable keys guarantee uniqueness, preventing duplicate keys and ensuring each key-value pair is distinct.\n",
    "3. Ordering: Immutable keys maintain the order in which they were inserted, making it possible to iterate over the dictionary in a consistent manner.\n",
    "EX.'''"
   ]
  },
  {
   "cell_type": "code",
   "execution_count": 111,
   "id": "f1e60165-2b3c-4adc-9396-8956dc019bb3",
   "metadata": {},
   "outputs": [],
   "source": [
    "my_dict = {'name': 'krishna', 'age': 27}\n"
   ]
  },
  {
   "cell_type": "code",
   "execution_count": 112,
   "id": "e61f285e-887e-4386-87eb-dded3bd77961",
   "metadata": {},
   "outputs": [
    {
     "data": {
      "text/plain": [
       "{'name': 'krishna', 'age': 27}"
      ]
     },
     "execution_count": 112,
     "metadata": {},
     "output_type": "execute_result"
    }
   ],
   "source": [
    "my_dict"
   ]
  },
  {
   "cell_type": "code",
   "execution_count": 113,
   "id": "73fc9bfd-f647-47f1-9d99-3e1b7145deb2",
   "metadata": {},
   "outputs": [
    {
     "data": {
      "text/plain": [
       "dict"
      ]
     },
     "execution_count": 113,
     "metadata": {},
     "output_type": "execute_result"
    }
   ],
   "source": [
    "type(my_dict)"
   ]
  },
  {
   "cell_type": "code",
   "execution_count": 114,
   "id": "a62e7d99-ccf6-47c0-9c28-fb686bbcb036",
   "metadata": {},
   "outputs": [],
   "source": [
    "phonebook = {\"Dad\":1234,\"Mom\":567}"
   ]
  },
  {
   "cell_type": "code",
   "execution_count": 115,
   "id": "5aed8ebc-e9c5-4210-9439-c1eb376ce68c",
   "metadata": {},
   "outputs": [
    {
     "data": {
      "text/plain": [
       "{'Dad': 1234, 'Mom': 567}"
      ]
     },
     "execution_count": 115,
     "metadata": {},
     "output_type": "execute_result"
    }
   ],
   "source": [
    "phonebook"
   ]
  },
  {
   "cell_type": "code",
   "execution_count": 116,
   "id": "a3634202-f4dc-472e-9ce7-fbb902bfe856",
   "metadata": {},
   "outputs": [
    {
     "data": {
      "text/plain": [
       "1234"
      ]
     },
     "execution_count": 116,
     "metadata": {},
     "output_type": "execute_result"
    }
   ],
   "source": [
    "phonebook [\"Dad\"]"
   ]
  },
  {
   "cell_type": "code",
   "execution_count": 117,
   "id": "b10c638e-d439-4207-ace2-490940bff3ef",
   "metadata": {},
   "outputs": [],
   "source": [
    "phonebook = {\"Dad\":1234,\"Mom\":567, \"Dad\":891}"
   ]
  },
  {
   "cell_type": "code",
   "execution_count": 118,
   "id": "20bab210-ff09-4d7b-ac56-2cc6383d5857",
   "metadata": {},
   "outputs": [
    {
     "data": {
      "text/plain": [
       "{'Dad': 891, 'Mom': 567}"
      ]
     },
     "execution_count": 118,
     "metadata": {},
     "output_type": "execute_result"
    }
   ],
   "source": [
    "phonebook"
   ]
  },
  {
   "cell_type": "code",
   "execution_count": 119,
   "id": "c56ac497-7c71-45cb-8513-e3b5d4d408bf",
   "metadata": {},
   "outputs": [
    {
     "data": {
      "text/plain": [
       "891"
      ]
     },
     "execution_count": 119,
     "metadata": {},
     "output_type": "execute_result"
    }
   ],
   "source": [
    "phonebook [\"Dad\"] # no is change"
   ]
  },
  {
   "cell_type": "code",
   "execution_count": null,
   "id": "9ca3422a-3491-4b53-9009-166cd389c344",
   "metadata": {},
   "outputs": [],
   "source": []
  }
 ],
 "metadata": {
  "kernelspec": {
   "display_name": "Python 3 (ipykernel)",
   "language": "python",
   "name": "python3"
  },
  "language_info": {
   "codemirror_mode": {
    "name": "ipython",
    "version": 3
   },
   "file_extension": ".py",
   "mimetype": "text/x-python",
   "name": "python",
   "nbconvert_exporter": "python",
   "pygments_lexer": "ipython3",
   "version": "3.10.8"
  }
 },
 "nbformat": 4,
 "nbformat_minor": 5
}
