{
 "cells": [
  {
   "cell_type": "code",
   "execution_count": 5,
   "id": "515edda5-f664-479b-89f8-2757e43354b0",
   "metadata": {},
   "outputs": [],
   "source": [
    "list = [1, 3.4, \"k\", 3+5j ]"
   ]
  },
  {
   "cell_type": "code",
   "execution_count": null,
   "id": "6a2b3273-6133-4c0a-9b55-cbd82aabca2f",
   "metadata": {},
   "outputs": [],
   "source": []
  },
  {
   "cell_type": "code",
   "execution_count": null,
   "id": "11027b3d-6129-4e9d-88b9-05bbd4e05505",
   "metadata": {},
   "outputs": [],
   "source": []
  }
 ],
 "metadata": {
  "kernelspec": {
   "display_name": "Python 3 (ipykernel)",
   "language": "python",
   "name": "python3"
  },
  "language_info": {
   "codemirror_mode": {
    "name": "ipython",
    "version": 3
   },
   "file_extension": ".py",
   "mimetype": "text/x-python",
   "name": "python",
   "nbconvert_exporter": "python",
   "pygments_lexer": "ipython3",
   "version": "3.10.8"
  }
 },
 "nbformat": 4,
 "nbformat_minor": 5
}
